{
 "cells": [
  {
   "cell_type": "code",
   "execution_count": 24,
   "metadata": {},
   "outputs": [],
   "source": [
    "import sys\n",
    "import os\n",
    "\n",
    "sys.path.append(os.path.abspath('../src'))\n",
    "\n",
    "from panza.utils import rag\n",
    "\n",
    "DB_PATH = \"../data/\"\n",
    "INDEX_NAME = \"armand.nicolicioiu\"\n",
    "EMBEDDING_MODEL = \"sentence-transformers/all-mpnet-base-v2\""
   ]
  },
  {
   "cell_type": "code",
   "execution_count": 25,
   "metadata": {},
   "outputs": [
    {
     "name": "stdout",
     "output_type": "stream",
     "text": [
      "Faiss index loaded \n"
     ]
    }
   ],
   "source": [
    "# Instantiate embeddings model\n",
    "embeddings_model = rag.get_embeddings_model(EMBEDDING_MODEL)\n",
    "\n",
    "# Load vector database\n",
    "db = rag.load_vector_db_from_disk(DB_PATH, INDEX_NAME, embeddings_model)"
   ]
  },
  {
   "cell_type": "code",
   "execution_count": 39,
   "metadata": {},
   "outputs": [
    {
     "name": "stdout",
     "output_type": "stream",
     "text": [
      "Hi Irene,\n",
      "\n",
      "Thank you for the help with the tickets!\n",
      "Everything is perfect, I will let you know in case I have any questions.\n",
      "\n",
      "Best wishes,\n",
      "Armand\n"
     ]
    }
   ],
   "source": [
    "NUM_EMAILS_TO_RETRIEVE = 1\n",
    "\n",
    "user_input = \"Train tickets\"  # Try a new request!\n",
    "\n",
    "results = db.similarity_search_with_score(user_input, k=NUM_EMAILS_TO_RETRIEVE)\n",
    "for result, _ in results:\n",
    "    print(\"Subject:\", result.metadata[\"subject\"])\n",
    "    print(result.page_content)"
   ]
  }
 ],
 "metadata": {
  "kernelspec": {
   "display_name": "data_preparation",
   "language": "python",
   "name": "python3"
  },
  "language_info": {
   "codemirror_mode": {
    "name": "ipython",
    "version": 3
   },
   "file_extension": ".py",
   "mimetype": "text/x-python",
   "name": "python",
   "nbconvert_exporter": "python",
   "pygments_lexer": "ipython3",
   "version": "3.9.19"
  }
 },
 "nbformat": 4,
 "nbformat_minor": 2
}
